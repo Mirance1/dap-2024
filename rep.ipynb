{
  "nbformat": 4,
  "nbformat_minor": 0,
  "metadata": {
    "colab": {
      "provenance": [],
      "authorship_tag": "ABX9TyOUO6JfkungRQ6NATnpDMim",
      "include_colab_link": true
    },
    "kernelspec": {
      "name": "python3",
      "display_name": "Python 3"
    },
    "language_info": {
      "name": "python"
    }
  },
  "cells": [
    {
      "cell_type": "markdown",
      "metadata": {
        "id": "view-in-github",
        "colab_type": "text"
      },
      "source": [
        "<a href=\"https://colab.research.google.com/github/Mirance1/dap-2024/blob/main/rep.ipynb\" target=\"_parent\"><img src=\"https://colab.research.google.com/assets/colab-badge.svg\" alt=\"Open In Colab\"/></a>"
      ]
    },
    {
      "cell_type": "markdown",
      "source": [
        "Отчет по лабораторной работе №1\n",
        "Тема работы «Подготовка среды для анализа данных »  \n",
        "по дисциплине « Анализ данных на Python»  \n",
        "студента  очного отделения\n",
        "2 курса 12002209 группы\n",
        "Вященко Руслан Эльдонизович\n",
        "\n",
        "Проверил:\n",
        "Чеботарев Сергей Александрович  \n",
        "\n",
        "#Цель работы\n",
        "Подготовка средст для анализа данных на python\n",
        "##Общая постановка задачи\n",
        "Создайте учетную запись в сервисе GitHub  \n",
        "Выполните форк репозитория https://github.com/chebotarevsa/dap-2024  \n",
        "Создайте учетную запись в Google Colab  \n",
        "Настройте интеграцию Google Colab и GitHub  \n",
        "Создайте в Google Colab отчет о выполненой работе в виде файла rep.ipynb  . Используйте Markdown разметку (заголовки, списки, форматированный текст, ссылки)  \n",
        "Сохраните отчет в ваш репозиторий github в директории ./les01  \n",
        "Создайте pull request в репозиторий https://github.com/chebotarevsa/dap-2024.\n",
        "Название pull request должно иметь формат \"<Номер лабораторной работы> <Номер группы> <ФИО>\"  \n",
        "Сдайте работу в системе \"Пегас\", в отчет укажите ссылку на pull request    "
      ],
      "metadata": {
        "id": "bCxJ-vPUGNFL"
      }
    }
  ]
}