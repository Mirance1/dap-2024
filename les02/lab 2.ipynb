{
  "cells": [
    {
      "cell_type": "markdown",
      "metadata": {
        "id": "VMJ0bAJ51OOP"
      },
      "source": [
        "# Лабораторная работа №2. Основы Python"
      ]
    },
    {
      "cell_type": "markdown",
      "metadata": {
        "id": "op2BIcTv1OOR"
      },
      "source": [
        "## Задание"
      ]
    },
    {
      "cell_type": "markdown",
      "metadata": {
        "id": "7uqYjJet1OOR"
      },
      "source": [
        "Выполните следующие задания:\n",
        "\n",
        "1. Откройте в файл в Google Colab (используйте собственный форк репозитория).\n",
        "2. Решите задачи.\n",
        "3. Сохраните результат в ваш репозиторий github в директорию ./les02\n",
        "4. Создайте pull request в репозиторий https://github.com/chebotarevsa/dap-2024. Название pull request должно иметь формат \"<Номер лабораторной работы>  <Номер группы> <ФИО>\"\n",
        "5. Сдайте работу в системе \"Пегас\", в отчет укажите ссылку на pull request"
      ]
    },
    {
      "cell_type": "markdown",
      "metadata": {
        "id": "XBBjFLOs1OOS"
      },
      "source": [
        "Задача №1. https://leetcode.com/problems/two-sum/"
      ]
    },
    {
      "cell_type": "code",
      "execution_count": null,
      "metadata": {
        "id": "B1_ABeCi1OOS"
      },
      "outputs": [],
      "source": [
        "class Solution(object):\n",
        "    def twoSum(self, nums, target):\n",
        "        \"\"\"\n",
        "        :type nums: List[int]\n",
        "        :type target: int\n",
        "        :rtype: List[int]\n",
        "        \"\"\"\n",
        "        dict_num={}\n",
        "        for l,k in enumerate(nums):\n",
        "            dict_num[k]=l\n",
        "        print(dict_num)\n",
        "        for i in range(0,len(nums)):\n",
        "            t=target-nums[i]\n",
        "            if dict_num.get(t) and dict_num.get(t)!=nums[i]:\n",
        "                return[i,dict_num.get(t)]\n",
        "\n",
        "\n",
        ""
      ]
    },
    {
      "cell_type": "markdown",
      "metadata": {
        "id": "WBhkzx6u1OOT"
      },
      "source": [
        "Задача №2. https://leetcode.com/problems/palindrome-number/description/"
      ]
    },
    {
      "cell_type": "code",
      "execution_count": null,
      "metadata": {
        "id": "AUBkMk6E1OOU"
      },
      "outputs": [],
      "source": [
        "class Solution(object):\n",
        "    def isPalindrome(self, x):\n",
        "        if x <0:\n",
        "            return False\n",
        "        return str(x)==str(x)[::-1]"
      ]
    },
    {
      "cell_type": "markdown",
      "metadata": {
        "id": "WcD7252_1OOU"
      },
      "source": [
        "Задача №3. https://leetcode.com/problems/roman-to-integer/description/"
      ]
    },
    {
      "cell_type": "code",
      "execution_count": null,
      "metadata": {
        "id": "PmShOL7H1OOU"
      },
      "outputs": [],
      "source": [
        "class Solution(object):\n",
        "    def romanToInt(self, s):\n",
        "        dcnr = {'I': 1, 'V': 5, 'X': 10, 'L': 50, 'C': 100, 'D': 500, 'M': 1000}\n",
        "        result = 0\n",
        "        for i in range(len(s)):\n",
        "            value = dcnr[s[i]]\n",
        "            if i + 1 < len(s) and dcnr[s[i]] < dcnr[s[i + 1]]:\n",
        "                result -= value\n",
        "            else:\n",
        "                result += value\n",
        "        return result\n",
        "\n",
        "sol = Solution()\n",
        "test = sol.romanToInt(\"MCMXCIV\")\n",
        "print(test)"
      ]
    },
    {
      "cell_type": "markdown",
      "metadata": {
        "id": "hbYbncD11OOV"
      },
      "source": [
        "Задача №4. https://leetcode.com/problems/longest-common-prefix/description/"
      ]
    },
    {
      "cell_type": "code",
      "execution_count": null,
      "metadata": {
        "id": "pBChsRsq1OOV"
      },
      "outputs": [],
      "source": [
        "class Solution(object):\n",
        "    def longestCommonPrefix(self, strs):\n",
        "        if not strs:\n",
        "            return \"\"\n",
        "\n",
        "        pref = strs[0]\n",
        "\n",
        "        for string in strs[1:]:\n",
        "            while string[:len(pref)] != pref and pref:\n",
        "                pref = pref[:-1]\n",
        "            if not pref:\n",
        "                return \"\"\n",
        "\n",
        "        return pref"
      ]
    },
    {
      "cell_type": "markdown",
      "metadata": {
        "id": "WMdVxJvy1OOW"
      },
      "source": [
        "Задача №5. https://leetcode.com/problems/merge-two-sorted-lists/description/"
      ]
    },
    {
      "cell_type": "code",
      "execution_count": null,
      "metadata": {
        "id": "C9ihmu1w1OOW"
      },
      "outputs": [],
      "source": [
        "\n",
        "class Solution(object):\n",
        "    def mergeTwoLists(self, list1, list2):\n",
        "        dummy = ListNode()\n",
        "        current = dummy\n",
        "\n",
        "        while list1 is not None and list2 is not None:\n",
        "            if list1.val <= list2.val:\n",
        "                current.next = list1\n",
        "                list1 = list1.next\n",
        "            else:\n",
        "                current.next = list2\n",
        "                list2 = list2.next\n",
        "\n",
        "            current = current.next\n",
        "\n",
        "\n",
        "        if list1 is not None:\n",
        "            current.next = list1\n",
        "        else:\n",
        "            current.next = list2\n",
        "\n",
        "        return dummy.next"
      ]
    },
    {
      "cell_type": "markdown",
      "metadata": {
        "id": "-yMZzR_s1OOW"
      },
      "source": [
        "Задача №6. https://leetcode.com/problems/longest-substring-without-repeating-characters/description/"
      ]
    },
    {
      "cell_type": "code",
      "execution_count": 1,
      "metadata": {
        "id": "-hdqK8k11OOW"
      },
      "outputs": [],
      "source": [
        "class Solution(object):\n",
        "    def lengthOfLongestSubstring(self, s):\n",
        "        max_len = 0\n",
        "        current_substring = \"\"\n",
        "        for char in s:\n",
        "            if char in current_substring:\n",
        "\n",
        "                cut_index = current_substring.index(char)\n",
        "                current_substring = current_substring[cut_index + 1:]\n",
        "\n",
        "            current_substring += char\n",
        "\n",
        "            max_len = max(max_len, len(current_substring))\n",
        "\n",
        "        return max_len"
      ]
    },
    {
      "cell_type": "markdown",
      "metadata": {
        "id": "ju91Ymqo1OOX"
      },
      "source": [
        "## Вопросы\n",
        "\n",
        "1. Что такое динамическая типизация и чем она отличается от статической?\n",
        "2. Чем отличается цикл for в Python от цикла for в С++?\n",
        "3. Для чего предназначены операторы continue и break?\n",
        "4. Как определить функцию в python? Может ли функция возвращать несколько значений?\n",
        "5. Что такое лямбда функции и для чего они предназначены?\n",
        "6. Может ли тело функции содержать определение другой функции?\n",
        "7. Как определить класс в python? Для чего нужна переменная self?\n",
        "8. Как определить приватный метод? Можно ли вызвать приватный метод за пределами класса?\n",
        "9. Как определить статический метод класса? Для чего может понадобиться статический метод?\n",
        "10. Чем staticmethod отличается от classmethod?\n",
        "11. Как определить собственный класс исключений Python? Как выбросить и перехватить исключение?\n",
        "12. Что такое картеж, для чего он используется?\n"
      ]
    }
  ],
  "metadata": {
    "language_info": {
      "name": "python"
    },
    "colab": {
      "provenance": []
    },
    "kernelspec": {
      "name": "python3",
      "display_name": "Python 3"
    }
  },
  "nbformat": 4,
  "nbformat_minor": 0
}